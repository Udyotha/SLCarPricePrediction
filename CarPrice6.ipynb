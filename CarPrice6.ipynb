{
 "cells": [
  {
   "cell_type": "code",
   "execution_count": 1,
   "metadata": {},
   "outputs": [],
   "source": [
    "import pandas as pd\n",
    "import numpy as np"
   ]
  },
  {
   "cell_type": "code",
   "execution_count": 2,
   "metadata": {},
   "outputs": [],
   "source": [
    "df=pd.read_csv('FitAquaFinalApr.csv')"
   ]
  },
  {
   "cell_type": "code",
   "execution_count": 3,
   "metadata": {},
   "outputs": [
    {
     "data": {
      "text/plain": [
       "(264, 10)"
      ]
     },
     "execution_count": 3,
     "metadata": {},
     "output_type": "execute_result"
    }
   ],
   "source": [
    "df.shape"
   ]
  },
  {
   "cell_type": "code",
   "execution_count": 4,
   "metadata": {},
   "outputs": [
    {
     "data": {
      "text/html": [
       "<div>\n",
       "<style scoped>\n",
       "    .dataframe tbody tr th:only-of-type {\n",
       "        vertical-align: middle;\n",
       "    }\n",
       "\n",
       "    .dataframe tbody tr th {\n",
       "        vertical-align: top;\n",
       "    }\n",
       "\n",
       "    .dataframe thead th {\n",
       "        text-align: right;\n",
       "    }\n",
       "</style>\n",
       "<table border=\"1\" class=\"dataframe\">\n",
       "  <thead>\n",
       "    <tr style=\"text-align: right;\">\n",
       "      <th></th>\n",
       "      <th>Cars_name</th>\n",
       "      <th>Cars_url</th>\n",
       "      <th>Cars_price</th>\n",
       "      <th>Cars_Brand</th>\n",
       "      <th>Cars_Model</th>\n",
       "      <th>Cars_YOM</th>\n",
       "      <th>Cars_Mileage</th>\n",
       "      <th>Cars_Transmission</th>\n",
       "      <th>Cars_Fuel_Type</th>\n",
       "      <th>Cars_Engine_capacity</th>\n",
       "    </tr>\n",
       "  </thead>\n",
       "  <tbody>\n",
       "    <tr>\n",
       "      <th>0</th>\n",
       "      <td>Honda Fit Gp5 2013 Car</td>\n",
       "      <td>https://riyasewana.com/buy/honda-fit-gp5-sale-...</td>\n",
       "      <td>4125000</td>\n",
       "      <td>Honda</td>\n",
       "      <td>Fit GP5</td>\n",
       "      <td>2013</td>\n",
       "      <td>113000</td>\n",
       "      <td>Automatic</td>\n",
       "      <td>Petrol</td>\n",
       "      <td>1490</td>\n",
       "    </tr>\n",
       "    <tr>\n",
       "      <th>1</th>\n",
       "      <td>Honda Fit Gp5 2014 Car</td>\n",
       "      <td>https://riyasewana.com/buy/honda-fit-gp5-sale-...</td>\n",
       "      <td>4825000</td>\n",
       "      <td>Honda</td>\n",
       "      <td>FIT GP5</td>\n",
       "      <td>2014</td>\n",
       "      <td>30000</td>\n",
       "      <td>Automatic</td>\n",
       "      <td>Petrol</td>\n",
       "      <td>1490</td>\n",
       "    </tr>\n",
       "    <tr>\n",
       "      <th>2</th>\n",
       "      <td>Honda Fit Gp5 2014 Car</td>\n",
       "      <td>https://riyasewana.com/buy/honda-fit-gp5-sale-...</td>\n",
       "      <td>4150000</td>\n",
       "      <td>Honda</td>\n",
       "      <td>FIT GP5</td>\n",
       "      <td>2014</td>\n",
       "      <td>105000</td>\n",
       "      <td>Automatic</td>\n",
       "      <td>Hybrid</td>\n",
       "      <td>1500</td>\n",
       "    </tr>\n",
       "    <tr>\n",
       "      <th>3</th>\n",
       "      <td>Honda Fit Shuttle 2011 Car</td>\n",
       "      <td>https://riyasewana.com/buy/honda-fit-shuttle-s...</td>\n",
       "      <td>3790000</td>\n",
       "      <td>Honda</td>\n",
       "      <td>Fit Shuttle</td>\n",
       "      <td>2011</td>\n",
       "      <td>125000</td>\n",
       "      <td>Automatic</td>\n",
       "      <td>Hybrid</td>\n",
       "      <td>1330</td>\n",
       "    </tr>\n",
       "    <tr>\n",
       "      <th>4</th>\n",
       "      <td>Honda Fit Gp5 2014 Car</td>\n",
       "      <td>https://riyasewana.com/buy/honda-fit-gp5-sale-...</td>\n",
       "      <td>4525000</td>\n",
       "      <td>Honda</td>\n",
       "      <td>FIT GP5</td>\n",
       "      <td>2014</td>\n",
       "      <td>38300</td>\n",
       "      <td>Automatic</td>\n",
       "      <td>Hybrid</td>\n",
       "      <td>1500</td>\n",
       "    </tr>\n",
       "  </tbody>\n",
       "</table>\n",
       "</div>"
      ],
      "text/plain": [
       "                    Cars_name  \\\n",
       "0      Honda Fit Gp5 2013 Car   \n",
       "1      Honda Fit Gp5 2014 Car   \n",
       "2      Honda Fit Gp5 2014 Car   \n",
       "3  Honda Fit Shuttle 2011 Car   \n",
       "4      Honda Fit Gp5 2014 Car   \n",
       "\n",
       "                                            Cars_url  Cars_price Cars_Brand  \\\n",
       "0  https://riyasewana.com/buy/honda-fit-gp5-sale-...     4125000      Honda   \n",
       "1  https://riyasewana.com/buy/honda-fit-gp5-sale-...     4825000      Honda   \n",
       "2  https://riyasewana.com/buy/honda-fit-gp5-sale-...     4150000      Honda   \n",
       "3  https://riyasewana.com/buy/honda-fit-shuttle-s...     3790000      Honda   \n",
       "4  https://riyasewana.com/buy/honda-fit-gp5-sale-...     4525000      Honda   \n",
       "\n",
       "    Cars_Model  Cars_YOM  Cars_Mileage Cars_Transmission Cars_Fuel_Type  \\\n",
       "0      Fit GP5      2013        113000         Automatic         Petrol   \n",
       "1      FIT GP5      2014         30000         Automatic         Petrol   \n",
       "2      FIT GP5      2014        105000         Automatic         Hybrid   \n",
       "3  Fit Shuttle      2011        125000         Automatic         Hybrid   \n",
       "4      FIT GP5      2014         38300         Automatic         Hybrid   \n",
       "\n",
       "   Cars_Engine_capacity  \n",
       "0                  1490  \n",
       "1                  1490  \n",
       "2                  1500  \n",
       "3                  1330  \n",
       "4                  1500  "
      ]
     },
     "execution_count": 4,
     "metadata": {},
     "output_type": "execute_result"
    }
   ],
   "source": [
    "df.head()"
   ]
  },
  {
   "cell_type": "code",
   "execution_count": 5,
   "metadata": {
    "scrolled": true
   },
   "outputs": [
    {
     "name": "stdout",
     "output_type": "stream",
     "text": [
      "['Honda' 'Toyota']\n",
      "['Fit GP5' 'FIT GP5' 'Fit Shuttle' 'Fit GP1 Navi Premium' 'Fit Gp1'\n",
      " 'Fit Shuttle Gp2' 'Fit Shuttle GP2' 'Fit Gp5' 'Fit Ge6' 'Fit GP1'\n",
      " 'FIT MUGEN' 'Fit Aria' 'Fit' 'Fit Aria GD8' 'FIT GP1 10th Anniversary'\n",
      " 'FIT GP1' 'FIT GP5 S GRADE' 'Fit Gp5 L' 'Fit Shuttle Navi Premium'\n",
      " 'FIT GP5 S Model' 'Fit GP1 Anniversary' 'FIT Shuttle GP2'\n",
      " 'Fit GP2 Shuttle' 'Gp1 Fit NAVI PREMIUM' 'FIT Shuttle Gp 2'\n",
      " 'Fit GP5 L Grade' 'Fit GP5 S Grade' 'Fit GD1' 'Fit GP5 S GRADE'\n",
      " 'Fit Gp5 S Grade' 'Fit S Grade' 'Fit Gp5 S' 'FIT' 'FIT Shuttle' 'FIT GE6'\n",
      " 'Fit GB1' 'Fit Shuttle GP7' 'FIt GP1 Navi Premium' 'Fit Gp5 L Grade'\n",
      " 'Fit Gp5 S Limited' 'Fit Shuttle GP 2' 'Fit GP5 L' 'FIT SHUTTLE'\n",
      " 'Fit GP5 S' 'Fit GP4 RS' 'FIT GP5 L Grade' 'Fit Shuttle Gp7' 'Aqua'\n",
      " 'Aqua S Grade Limited' 'Aqua G Grade' 'AQUA G GRADE' 'Aqua G'\n",
      " 'Aqua S Limited' 'Aqua G GRADE' 'Aqua S' 'AQUA G Grade' 'Aqua G Limited'\n",
      " 'Aqua G Sports' 'Aqua S Grade' 'Aqua G Grade Limited' 'AQUA URBAN'\n",
      " 'AQUA S Limited' 'AQUARegistered Year' 'Aqua X Urban' 'AQUA']\n",
      "['Automatic']\n",
      "['Petrol' 'Hybrid']\n"
     ]
    }
   ],
   "source": [
    "print(df['Cars_Brand'].unique())\n",
    "print(df['Cars_Model'].unique())\n",
    "print(df['Cars_Transmission'].unique())\n",
    "print(df['Cars_Fuel_Type'].unique())"
   ]
  },
  {
   "cell_type": "code",
   "execution_count": 1209,
   "metadata": {},
   "outputs": [
    {
     "data": {
      "text/plain": [
       "Index(['Cars_name', 'Cars_url', 'Cars_price', 'Cars_Brand', 'Cars_Model',\n",
       "       'Cars_YOM', 'Cars_Mileage', 'Cars_Transmission', 'Cars_Fuel_Type',\n",
       "       'Cars_Engine_capacity'],\n",
       "      dtype='object')"
      ]
     },
     "execution_count": 1209,
     "metadata": {},
     "output_type": "execute_result"
    }
   ],
   "source": [
    "df.columns"
   ]
  },
  {
   "cell_type": "code",
   "execution_count": 1210,
   "metadata": {},
   "outputs": [
    {
     "data": {
      "text/plain": [
       "Cars_name               0\n",
       "Cars_url                0\n",
       "Cars_price              0\n",
       "Cars_Brand              0\n",
       "Cars_Model              0\n",
       "Cars_YOM                0\n",
       "Cars_Mileage            0\n",
       "Cars_Transmission       0\n",
       "Cars_Fuel_Type          0\n",
       "Cars_Engine_capacity    0\n",
       "dtype: int64"
      ]
     },
     "execution_count": 1210,
     "metadata": {},
     "output_type": "execute_result"
    }
   ],
   "source": [
    "##check if any columns have null values\n",
    "df.isnull().sum()"
   ]
  },
  {
   "cell_type": "code",
   "execution_count": 1211,
   "metadata": {},
   "outputs": [
    {
     "data": {
      "text/html": [
       "<div>\n",
       "<style scoped>\n",
       "    .dataframe tbody tr th:only-of-type {\n",
       "        vertical-align: middle;\n",
       "    }\n",
       "\n",
       "    .dataframe tbody tr th {\n",
       "        vertical-align: top;\n",
       "    }\n",
       "\n",
       "    .dataframe thead th {\n",
       "        text-align: right;\n",
       "    }\n",
       "</style>\n",
       "<table border=\"1\" class=\"dataframe\">\n",
       "  <thead>\n",
       "    <tr style=\"text-align: right;\">\n",
       "      <th></th>\n",
       "      <th>Cars_price</th>\n",
       "      <th>Cars_YOM</th>\n",
       "      <th>Cars_Mileage</th>\n",
       "      <th>Cars_Engine_capacity</th>\n",
       "    </tr>\n",
       "  </thead>\n",
       "  <tbody>\n",
       "    <tr>\n",
       "      <th>count</th>\n",
       "      <td>2.640000e+02</td>\n",
       "      <td>264.000000</td>\n",
       "      <td>264.000000</td>\n",
       "      <td>264.000000</td>\n",
       "    </tr>\n",
       "    <tr>\n",
       "      <th>mean</th>\n",
       "      <td>4.193593e+06</td>\n",
       "      <td>2012.765152</td>\n",
       "      <td>101552.469697</td>\n",
       "      <td>1444.386364</td>\n",
       "    </tr>\n",
       "    <tr>\n",
       "      <th>std</th>\n",
       "      <td>6.167826e+05</td>\n",
       "      <td>2.278549</td>\n",
       "      <td>91754.071203</td>\n",
       "      <td>88.020102</td>\n",
       "    </tr>\n",
       "    <tr>\n",
       "      <th>min</th>\n",
       "      <td>1.200000e+06</td>\n",
       "      <td>2002.000000</td>\n",
       "      <td>180.000000</td>\n",
       "      <td>1000.000000</td>\n",
       "    </tr>\n",
       "    <tr>\n",
       "      <th>25%</th>\n",
       "      <td>3.850000e+06</td>\n",
       "      <td>2012.000000</td>\n",
       "      <td>75000.000000</td>\n",
       "      <td>1330.000000</td>\n",
       "    </tr>\n",
       "    <tr>\n",
       "      <th>50%</th>\n",
       "      <td>4.225000e+06</td>\n",
       "      <td>2013.000000</td>\n",
       "      <td>89000.000000</td>\n",
       "      <td>1500.000000</td>\n",
       "    </tr>\n",
       "    <tr>\n",
       "      <th>75%</th>\n",
       "      <td>4.476250e+06</td>\n",
       "      <td>2014.000000</td>\n",
       "      <td>110000.000000</td>\n",
       "      <td>1500.000000</td>\n",
       "    </tr>\n",
       "    <tr>\n",
       "      <th>max</th>\n",
       "      <td>7.650000e+06</td>\n",
       "      <td>2017.000000</td>\n",
       "      <td>900000.000000</td>\n",
       "      <td>1600.000000</td>\n",
       "    </tr>\n",
       "  </tbody>\n",
       "</table>\n",
       "</div>"
      ],
      "text/plain": [
       "         Cars_price     Cars_YOM   Cars_Mileage  Cars_Engine_capacity\n",
       "count  2.640000e+02   264.000000     264.000000            264.000000\n",
       "mean   4.193593e+06  2012.765152  101552.469697           1444.386364\n",
       "std    6.167826e+05     2.278549   91754.071203             88.020102\n",
       "min    1.200000e+06  2002.000000     180.000000           1000.000000\n",
       "25%    3.850000e+06  2012.000000   75000.000000           1330.000000\n",
       "50%    4.225000e+06  2013.000000   89000.000000           1500.000000\n",
       "75%    4.476250e+06  2014.000000  110000.000000           1500.000000\n",
       "max    7.650000e+06  2017.000000  900000.000000           1600.000000"
      ]
     },
     "execution_count": 1211,
     "metadata": {},
     "output_type": "execute_result"
    }
   ],
   "source": [
    "df.describe()"
   ]
  },
  {
   "cell_type": "code",
   "execution_count": 1212,
   "metadata": {},
   "outputs": [],
   "source": [
    "final_dataset = df[['Cars_price', 'Cars_Brand','Cars_YOM', 'Cars_Mileage', 'Cars_Transmission', 'Cars_Fuel_Type',\n",
    "       'Cars_Engine_capacity']]"
   ]
  },
  {
   "cell_type": "code",
   "execution_count": 1213,
   "metadata": {},
   "outputs": [
    {
     "data": {
      "text/html": [
       "<div>\n",
       "<style scoped>\n",
       "    .dataframe tbody tr th:only-of-type {\n",
       "        vertical-align: middle;\n",
       "    }\n",
       "\n",
       "    .dataframe tbody tr th {\n",
       "        vertical-align: top;\n",
       "    }\n",
       "\n",
       "    .dataframe thead th {\n",
       "        text-align: right;\n",
       "    }\n",
       "</style>\n",
       "<table border=\"1\" class=\"dataframe\">\n",
       "  <thead>\n",
       "    <tr style=\"text-align: right;\">\n",
       "      <th></th>\n",
       "      <th>Cars_price</th>\n",
       "      <th>Cars_Brand</th>\n",
       "      <th>Cars_YOM</th>\n",
       "      <th>Cars_Mileage</th>\n",
       "      <th>Cars_Transmission</th>\n",
       "      <th>Cars_Fuel_Type</th>\n",
       "      <th>Cars_Engine_capacity</th>\n",
       "    </tr>\n",
       "  </thead>\n",
       "  <tbody>\n",
       "    <tr>\n",
       "      <th>0</th>\n",
       "      <td>4125000</td>\n",
       "      <td>Honda</td>\n",
       "      <td>2013</td>\n",
       "      <td>113000</td>\n",
       "      <td>Automatic</td>\n",
       "      <td>Petrol</td>\n",
       "      <td>1490</td>\n",
       "    </tr>\n",
       "    <tr>\n",
       "      <th>1</th>\n",
       "      <td>4825000</td>\n",
       "      <td>Honda</td>\n",
       "      <td>2014</td>\n",
       "      <td>30000</td>\n",
       "      <td>Automatic</td>\n",
       "      <td>Petrol</td>\n",
       "      <td>1490</td>\n",
       "    </tr>\n",
       "    <tr>\n",
       "      <th>2</th>\n",
       "      <td>4150000</td>\n",
       "      <td>Honda</td>\n",
       "      <td>2014</td>\n",
       "      <td>105000</td>\n",
       "      <td>Automatic</td>\n",
       "      <td>Hybrid</td>\n",
       "      <td>1500</td>\n",
       "    </tr>\n",
       "    <tr>\n",
       "      <th>3</th>\n",
       "      <td>3790000</td>\n",
       "      <td>Honda</td>\n",
       "      <td>2011</td>\n",
       "      <td>125000</td>\n",
       "      <td>Automatic</td>\n",
       "      <td>Hybrid</td>\n",
       "      <td>1330</td>\n",
       "    </tr>\n",
       "    <tr>\n",
       "      <th>4</th>\n",
       "      <td>4525000</td>\n",
       "      <td>Honda</td>\n",
       "      <td>2014</td>\n",
       "      <td>38300</td>\n",
       "      <td>Automatic</td>\n",
       "      <td>Hybrid</td>\n",
       "      <td>1500</td>\n",
       "    </tr>\n",
       "  </tbody>\n",
       "</table>\n",
       "</div>"
      ],
      "text/plain": [
       "   Cars_price Cars_Brand  Cars_YOM  Cars_Mileage Cars_Transmission  \\\n",
       "0     4125000      Honda      2013        113000         Automatic   \n",
       "1     4825000      Honda      2014         30000         Automatic   \n",
       "2     4150000      Honda      2014        105000         Automatic   \n",
       "3     3790000      Honda      2011        125000         Automatic   \n",
       "4     4525000      Honda      2014         38300         Automatic   \n",
       "\n",
       "  Cars_Fuel_Type  Cars_Engine_capacity  \n",
       "0         Petrol                  1490  \n",
       "1         Petrol                  1490  \n",
       "2         Hybrid                  1500  \n",
       "3         Hybrid                  1330  \n",
       "4         Hybrid                  1500  "
      ]
     },
     "execution_count": 1213,
     "metadata": {},
     "output_type": "execute_result"
    }
   ],
   "source": [
    "final_dataset.head()"
   ]
  },
  {
   "cell_type": "code",
   "execution_count": 1214,
   "metadata": {},
   "outputs": [
    {
     "name": "stderr",
     "output_type": "stream",
     "text": [
      "<ipython-input-1214-e91fa51a2f45>:1: SettingWithCopyWarning: \n",
      "A value is trying to be set on a copy of a slice from a DataFrame.\n",
      "Try using .loc[row_indexer,col_indexer] = value instead\n",
      "\n",
      "See the caveats in the documentation: https://pandas.pydata.org/pandas-docs/stable/user_guide/indexing.html#returning-a-view-versus-a-copy\n",
      "  final_dataset['Current Year']=2021\n"
     ]
    }
   ],
   "source": [
    "final_dataset['Current Year']=2021"
   ]
  },
  {
   "cell_type": "code",
   "execution_count": 1215,
   "metadata": {},
   "outputs": [
    {
     "data": {
      "text/html": [
       "<div>\n",
       "<style scoped>\n",
       "    .dataframe tbody tr th:only-of-type {\n",
       "        vertical-align: middle;\n",
       "    }\n",
       "\n",
       "    .dataframe tbody tr th {\n",
       "        vertical-align: top;\n",
       "    }\n",
       "\n",
       "    .dataframe thead th {\n",
       "        text-align: right;\n",
       "    }\n",
       "</style>\n",
       "<table border=\"1\" class=\"dataframe\">\n",
       "  <thead>\n",
       "    <tr style=\"text-align: right;\">\n",
       "      <th></th>\n",
       "      <th>Cars_price</th>\n",
       "      <th>Cars_Brand</th>\n",
       "      <th>Cars_YOM</th>\n",
       "      <th>Cars_Mileage</th>\n",
       "      <th>Cars_Transmission</th>\n",
       "      <th>Cars_Fuel_Type</th>\n",
       "      <th>Cars_Engine_capacity</th>\n",
       "      <th>Current Year</th>\n",
       "    </tr>\n",
       "  </thead>\n",
       "  <tbody>\n",
       "    <tr>\n",
       "      <th>0</th>\n",
       "      <td>4125000</td>\n",
       "      <td>Honda</td>\n",
       "      <td>2013</td>\n",
       "      <td>113000</td>\n",
       "      <td>Automatic</td>\n",
       "      <td>Petrol</td>\n",
       "      <td>1490</td>\n",
       "      <td>2021</td>\n",
       "    </tr>\n",
       "    <tr>\n",
       "      <th>1</th>\n",
       "      <td>4825000</td>\n",
       "      <td>Honda</td>\n",
       "      <td>2014</td>\n",
       "      <td>30000</td>\n",
       "      <td>Automatic</td>\n",
       "      <td>Petrol</td>\n",
       "      <td>1490</td>\n",
       "      <td>2021</td>\n",
       "    </tr>\n",
       "    <tr>\n",
       "      <th>2</th>\n",
       "      <td>4150000</td>\n",
       "      <td>Honda</td>\n",
       "      <td>2014</td>\n",
       "      <td>105000</td>\n",
       "      <td>Automatic</td>\n",
       "      <td>Hybrid</td>\n",
       "      <td>1500</td>\n",
       "      <td>2021</td>\n",
       "    </tr>\n",
       "    <tr>\n",
       "      <th>3</th>\n",
       "      <td>3790000</td>\n",
       "      <td>Honda</td>\n",
       "      <td>2011</td>\n",
       "      <td>125000</td>\n",
       "      <td>Automatic</td>\n",
       "      <td>Hybrid</td>\n",
       "      <td>1330</td>\n",
       "      <td>2021</td>\n",
       "    </tr>\n",
       "    <tr>\n",
       "      <th>4</th>\n",
       "      <td>4525000</td>\n",
       "      <td>Honda</td>\n",
       "      <td>2014</td>\n",
       "      <td>38300</td>\n",
       "      <td>Automatic</td>\n",
       "      <td>Hybrid</td>\n",
       "      <td>1500</td>\n",
       "      <td>2021</td>\n",
       "    </tr>\n",
       "  </tbody>\n",
       "</table>\n",
       "</div>"
      ],
      "text/plain": [
       "   Cars_price Cars_Brand  Cars_YOM  Cars_Mileage Cars_Transmission  \\\n",
       "0     4125000      Honda      2013        113000         Automatic   \n",
       "1     4825000      Honda      2014         30000         Automatic   \n",
       "2     4150000      Honda      2014        105000         Automatic   \n",
       "3     3790000      Honda      2011        125000         Automatic   \n",
       "4     4525000      Honda      2014         38300         Automatic   \n",
       "\n",
       "  Cars_Fuel_Type  Cars_Engine_capacity  Current Year  \n",
       "0         Petrol                  1490          2021  \n",
       "1         Petrol                  1490          2021  \n",
       "2         Hybrid                  1500          2021  \n",
       "3         Hybrid                  1330          2021  \n",
       "4         Hybrid                  1500          2021  "
      ]
     },
     "execution_count": 1215,
     "metadata": {},
     "output_type": "execute_result"
    }
   ],
   "source": [
    "final_dataset.head()"
   ]
  },
  {
   "cell_type": "code",
   "execution_count": 1216,
   "metadata": {},
   "outputs": [
    {
     "name": "stderr",
     "output_type": "stream",
     "text": [
      "<ipython-input-1216-fda21d13beab>:1: SettingWithCopyWarning: \n",
      "A value is trying to be set on a copy of a slice from a DataFrame.\n",
      "Try using .loc[row_indexer,col_indexer] = value instead\n",
      "\n",
      "See the caveats in the documentation: https://pandas.pydata.org/pandas-docs/stable/user_guide/indexing.html#returning-a-view-versus-a-copy\n",
      "  final_dataset['no_years']=final_dataset['Current Year']- final_dataset['Cars_YOM']\n"
     ]
    }
   ],
   "source": [
    "final_dataset['no_years']=final_dataset['Current Year']- final_dataset['Cars_YOM']"
   ]
  },
  {
   "cell_type": "code",
   "execution_count": 1217,
   "metadata": {},
   "outputs": [
    {
     "data": {
      "text/html": [
       "<div>\n",
       "<style scoped>\n",
       "    .dataframe tbody tr th:only-of-type {\n",
       "        vertical-align: middle;\n",
       "    }\n",
       "\n",
       "    .dataframe tbody tr th {\n",
       "        vertical-align: top;\n",
       "    }\n",
       "\n",
       "    .dataframe thead th {\n",
       "        text-align: right;\n",
       "    }\n",
       "</style>\n",
       "<table border=\"1\" class=\"dataframe\">\n",
       "  <thead>\n",
       "    <tr style=\"text-align: right;\">\n",
       "      <th></th>\n",
       "      <th>Cars_price</th>\n",
       "      <th>Cars_Brand</th>\n",
       "      <th>Cars_YOM</th>\n",
       "      <th>Cars_Mileage</th>\n",
       "      <th>Cars_Transmission</th>\n",
       "      <th>Cars_Fuel_Type</th>\n",
       "      <th>Cars_Engine_capacity</th>\n",
       "      <th>Current Year</th>\n",
       "      <th>no_years</th>\n",
       "    </tr>\n",
       "  </thead>\n",
       "  <tbody>\n",
       "    <tr>\n",
       "      <th>0</th>\n",
       "      <td>4125000</td>\n",
       "      <td>Honda</td>\n",
       "      <td>2013</td>\n",
       "      <td>113000</td>\n",
       "      <td>Automatic</td>\n",
       "      <td>Petrol</td>\n",
       "      <td>1490</td>\n",
       "      <td>2021</td>\n",
       "      <td>8</td>\n",
       "    </tr>\n",
       "    <tr>\n",
       "      <th>1</th>\n",
       "      <td>4825000</td>\n",
       "      <td>Honda</td>\n",
       "      <td>2014</td>\n",
       "      <td>30000</td>\n",
       "      <td>Automatic</td>\n",
       "      <td>Petrol</td>\n",
       "      <td>1490</td>\n",
       "      <td>2021</td>\n",
       "      <td>7</td>\n",
       "    </tr>\n",
       "    <tr>\n",
       "      <th>2</th>\n",
       "      <td>4150000</td>\n",
       "      <td>Honda</td>\n",
       "      <td>2014</td>\n",
       "      <td>105000</td>\n",
       "      <td>Automatic</td>\n",
       "      <td>Hybrid</td>\n",
       "      <td>1500</td>\n",
       "      <td>2021</td>\n",
       "      <td>7</td>\n",
       "    </tr>\n",
       "    <tr>\n",
       "      <th>3</th>\n",
       "      <td>3790000</td>\n",
       "      <td>Honda</td>\n",
       "      <td>2011</td>\n",
       "      <td>125000</td>\n",
       "      <td>Automatic</td>\n",
       "      <td>Hybrid</td>\n",
       "      <td>1330</td>\n",
       "      <td>2021</td>\n",
       "      <td>10</td>\n",
       "    </tr>\n",
       "    <tr>\n",
       "      <th>4</th>\n",
       "      <td>4525000</td>\n",
       "      <td>Honda</td>\n",
       "      <td>2014</td>\n",
       "      <td>38300</td>\n",
       "      <td>Automatic</td>\n",
       "      <td>Hybrid</td>\n",
       "      <td>1500</td>\n",
       "      <td>2021</td>\n",
       "      <td>7</td>\n",
       "    </tr>\n",
       "  </tbody>\n",
       "</table>\n",
       "</div>"
      ],
      "text/plain": [
       "   Cars_price Cars_Brand  Cars_YOM  Cars_Mileage Cars_Transmission  \\\n",
       "0     4125000      Honda      2013        113000         Automatic   \n",
       "1     4825000      Honda      2014         30000         Automatic   \n",
       "2     4150000      Honda      2014        105000         Automatic   \n",
       "3     3790000      Honda      2011        125000         Automatic   \n",
       "4     4525000      Honda      2014         38300         Automatic   \n",
       "\n",
       "  Cars_Fuel_Type  Cars_Engine_capacity  Current Year  no_years  \n",
       "0         Petrol                  1490          2021         8  \n",
       "1         Petrol                  1490          2021         7  \n",
       "2         Hybrid                  1500          2021         7  \n",
       "3         Hybrid                  1330          2021        10  \n",
       "4         Hybrid                  1500          2021         7  "
      ]
     },
     "execution_count": 1217,
     "metadata": {},
     "output_type": "execute_result"
    }
   ],
   "source": [
    "final_dataset.head()"
   ]
  },
  {
   "cell_type": "code",
   "execution_count": 1218,
   "metadata": {},
   "outputs": [
    {
     "name": "stderr",
     "output_type": "stream",
     "text": [
      "C:\\ProgramData\\Anaconda3\\lib\\site-packages\\pandas\\core\\frame.py:4163: SettingWithCopyWarning: \n",
      "A value is trying to be set on a copy of a slice from a DataFrame\n",
      "\n",
      "See the caveats in the documentation: https://pandas.pydata.org/pandas-docs/stable/user_guide/indexing.html#returning-a-view-versus-a-copy\n",
      "  return super().drop(\n"
     ]
    }
   ],
   "source": [
    "final_dataset.drop(['Cars_YOM'],axis=1,inplace=True)"
   ]
  },
  {
   "cell_type": "code",
   "execution_count": 1219,
   "metadata": {},
   "outputs": [
    {
     "data": {
      "text/html": [
       "<div>\n",
       "<style scoped>\n",
       "    .dataframe tbody tr th:only-of-type {\n",
       "        vertical-align: middle;\n",
       "    }\n",
       "\n",
       "    .dataframe tbody tr th {\n",
       "        vertical-align: top;\n",
       "    }\n",
       "\n",
       "    .dataframe thead th {\n",
       "        text-align: right;\n",
       "    }\n",
       "</style>\n",
       "<table border=\"1\" class=\"dataframe\">\n",
       "  <thead>\n",
       "    <tr style=\"text-align: right;\">\n",
       "      <th></th>\n",
       "      <th>Cars_price</th>\n",
       "      <th>Cars_Brand</th>\n",
       "      <th>Cars_Mileage</th>\n",
       "      <th>Cars_Transmission</th>\n",
       "      <th>Cars_Fuel_Type</th>\n",
       "      <th>Cars_Engine_capacity</th>\n",
       "      <th>Current Year</th>\n",
       "      <th>no_years</th>\n",
       "    </tr>\n",
       "  </thead>\n",
       "  <tbody>\n",
       "    <tr>\n",
       "      <th>0</th>\n",
       "      <td>4125000</td>\n",
       "      <td>Honda</td>\n",
       "      <td>113000</td>\n",
       "      <td>Automatic</td>\n",
       "      <td>Petrol</td>\n",
       "      <td>1490</td>\n",
       "      <td>2021</td>\n",
       "      <td>8</td>\n",
       "    </tr>\n",
       "    <tr>\n",
       "      <th>1</th>\n",
       "      <td>4825000</td>\n",
       "      <td>Honda</td>\n",
       "      <td>30000</td>\n",
       "      <td>Automatic</td>\n",
       "      <td>Petrol</td>\n",
       "      <td>1490</td>\n",
       "      <td>2021</td>\n",
       "      <td>7</td>\n",
       "    </tr>\n",
       "    <tr>\n",
       "      <th>2</th>\n",
       "      <td>4150000</td>\n",
       "      <td>Honda</td>\n",
       "      <td>105000</td>\n",
       "      <td>Automatic</td>\n",
       "      <td>Hybrid</td>\n",
       "      <td>1500</td>\n",
       "      <td>2021</td>\n",
       "      <td>7</td>\n",
       "    </tr>\n",
       "    <tr>\n",
       "      <th>3</th>\n",
       "      <td>3790000</td>\n",
       "      <td>Honda</td>\n",
       "      <td>125000</td>\n",
       "      <td>Automatic</td>\n",
       "      <td>Hybrid</td>\n",
       "      <td>1330</td>\n",
       "      <td>2021</td>\n",
       "      <td>10</td>\n",
       "    </tr>\n",
       "    <tr>\n",
       "      <th>4</th>\n",
       "      <td>4525000</td>\n",
       "      <td>Honda</td>\n",
       "      <td>38300</td>\n",
       "      <td>Automatic</td>\n",
       "      <td>Hybrid</td>\n",
       "      <td>1500</td>\n",
       "      <td>2021</td>\n",
       "      <td>7</td>\n",
       "    </tr>\n",
       "  </tbody>\n",
       "</table>\n",
       "</div>"
      ],
      "text/plain": [
       "   Cars_price Cars_Brand  Cars_Mileage Cars_Transmission Cars_Fuel_Type  \\\n",
       "0     4125000      Honda        113000         Automatic         Petrol   \n",
       "1     4825000      Honda         30000         Automatic         Petrol   \n",
       "2     4150000      Honda        105000         Automatic         Hybrid   \n",
       "3     3790000      Honda        125000         Automatic         Hybrid   \n",
       "4     4525000      Honda         38300         Automatic         Hybrid   \n",
       "\n",
       "   Cars_Engine_capacity  Current Year  no_years  \n",
       "0                  1490          2021         8  \n",
       "1                  1490          2021         7  \n",
       "2                  1500          2021         7  \n",
       "3                  1330          2021        10  \n",
       "4                  1500          2021         7  "
      ]
     },
     "execution_count": 1219,
     "metadata": {},
     "output_type": "execute_result"
    }
   ],
   "source": [
    "final_dataset.head()"
   ]
  },
  {
   "cell_type": "code",
   "execution_count": 1220,
   "metadata": {},
   "outputs": [],
   "source": [
    "final_dataset=final_dataset.drop(['Current Year'],axis=1)"
   ]
  },
  {
   "cell_type": "code",
   "execution_count": 1221,
   "metadata": {
    "scrolled": true
   },
   "outputs": [
    {
     "data": {
      "text/html": [
       "<div>\n",
       "<style scoped>\n",
       "    .dataframe tbody tr th:only-of-type {\n",
       "        vertical-align: middle;\n",
       "    }\n",
       "\n",
       "    .dataframe tbody tr th {\n",
       "        vertical-align: top;\n",
       "    }\n",
       "\n",
       "    .dataframe thead th {\n",
       "        text-align: right;\n",
       "    }\n",
       "</style>\n",
       "<table border=\"1\" class=\"dataframe\">\n",
       "  <thead>\n",
       "    <tr style=\"text-align: right;\">\n",
       "      <th></th>\n",
       "      <th>Cars_price</th>\n",
       "      <th>Cars_Brand</th>\n",
       "      <th>Cars_Mileage</th>\n",
       "      <th>Cars_Transmission</th>\n",
       "      <th>Cars_Fuel_Type</th>\n",
       "      <th>Cars_Engine_capacity</th>\n",
       "      <th>no_years</th>\n",
       "    </tr>\n",
       "  </thead>\n",
       "  <tbody>\n",
       "    <tr>\n",
       "      <th>0</th>\n",
       "      <td>4125000</td>\n",
       "      <td>Honda</td>\n",
       "      <td>113000</td>\n",
       "      <td>Automatic</td>\n",
       "      <td>Petrol</td>\n",
       "      <td>1490</td>\n",
       "      <td>8</td>\n",
       "    </tr>\n",
       "    <tr>\n",
       "      <th>1</th>\n",
       "      <td>4825000</td>\n",
       "      <td>Honda</td>\n",
       "      <td>30000</td>\n",
       "      <td>Automatic</td>\n",
       "      <td>Petrol</td>\n",
       "      <td>1490</td>\n",
       "      <td>7</td>\n",
       "    </tr>\n",
       "    <tr>\n",
       "      <th>2</th>\n",
       "      <td>4150000</td>\n",
       "      <td>Honda</td>\n",
       "      <td>105000</td>\n",
       "      <td>Automatic</td>\n",
       "      <td>Hybrid</td>\n",
       "      <td>1500</td>\n",
       "      <td>7</td>\n",
       "    </tr>\n",
       "    <tr>\n",
       "      <th>3</th>\n",
       "      <td>3790000</td>\n",
       "      <td>Honda</td>\n",
       "      <td>125000</td>\n",
       "      <td>Automatic</td>\n",
       "      <td>Hybrid</td>\n",
       "      <td>1330</td>\n",
       "      <td>10</td>\n",
       "    </tr>\n",
       "    <tr>\n",
       "      <th>4</th>\n",
       "      <td>4525000</td>\n",
       "      <td>Honda</td>\n",
       "      <td>38300</td>\n",
       "      <td>Automatic</td>\n",
       "      <td>Hybrid</td>\n",
       "      <td>1500</td>\n",
       "      <td>7</td>\n",
       "    </tr>\n",
       "  </tbody>\n",
       "</table>\n",
       "</div>"
      ],
      "text/plain": [
       "   Cars_price Cars_Brand  Cars_Mileage Cars_Transmission Cars_Fuel_Type  \\\n",
       "0     4125000      Honda        113000         Automatic         Petrol   \n",
       "1     4825000      Honda         30000         Automatic         Petrol   \n",
       "2     4150000      Honda        105000         Automatic         Hybrid   \n",
       "3     3790000      Honda        125000         Automatic         Hybrid   \n",
       "4     4525000      Honda         38300         Automatic         Hybrid   \n",
       "\n",
       "   Cars_Engine_capacity  no_years  \n",
       "0                  1490         8  \n",
       "1                  1490         7  \n",
       "2                  1500         7  \n",
       "3                  1330        10  \n",
       "4                  1500         7  "
      ]
     },
     "execution_count": 1221,
     "metadata": {},
     "output_type": "execute_result"
    }
   ],
   "source": [
    "final_dataset.head()"
   ]
  },
  {
   "cell_type": "code",
   "execution_count": 1222,
   "metadata": {},
   "outputs": [
    {
     "name": "stdout",
     "output_type": "stream",
     "text": [
      "['Honda' 'Toyota']\n"
     ]
    }
   ],
   "source": [
    "print(final_dataset['Cars_Brand'].unique())\n"
   ]
  },
  {
   "cell_type": "code",
   "execution_count": 1223,
   "metadata": {},
   "outputs": [],
   "source": [
    "final_dataset=pd.get_dummies(final_dataset, prefix=['TM', 'FT','CB'], columns=['Cars_Transmission', 'Cars_Fuel_Type','Cars_Brand'])"
   ]
  },
  {
   "cell_type": "code",
   "execution_count": null,
   "metadata": {},
   "outputs": [],
   "source": []
  },
  {
   "cell_type": "code",
   "execution_count": 1224,
   "metadata": {
    "scrolled": true
   },
   "outputs": [
    {
     "data": {
      "text/html": [
       "<div>\n",
       "<style scoped>\n",
       "    .dataframe tbody tr th:only-of-type {\n",
       "        vertical-align: middle;\n",
       "    }\n",
       "\n",
       "    .dataframe tbody tr th {\n",
       "        vertical-align: top;\n",
       "    }\n",
       "\n",
       "    .dataframe thead th {\n",
       "        text-align: right;\n",
       "    }\n",
       "</style>\n",
       "<table border=\"1\" class=\"dataframe\">\n",
       "  <thead>\n",
       "    <tr style=\"text-align: right;\">\n",
       "      <th></th>\n",
       "      <th>Cars_price</th>\n",
       "      <th>Cars_Mileage</th>\n",
       "      <th>Cars_Engine_capacity</th>\n",
       "      <th>no_years</th>\n",
       "      <th>TM_Automatic</th>\n",
       "      <th>FT_Hybrid</th>\n",
       "      <th>FT_Petrol</th>\n",
       "      <th>CB_Honda</th>\n",
       "      <th>CB_Toyota</th>\n",
       "    </tr>\n",
       "  </thead>\n",
       "  <tbody>\n",
       "    <tr>\n",
       "      <th>0</th>\n",
       "      <td>4125000</td>\n",
       "      <td>113000</td>\n",
       "      <td>1490</td>\n",
       "      <td>8</td>\n",
       "      <td>1</td>\n",
       "      <td>0</td>\n",
       "      <td>1</td>\n",
       "      <td>1</td>\n",
       "      <td>0</td>\n",
       "    </tr>\n",
       "    <tr>\n",
       "      <th>1</th>\n",
       "      <td>4825000</td>\n",
       "      <td>30000</td>\n",
       "      <td>1490</td>\n",
       "      <td>7</td>\n",
       "      <td>1</td>\n",
       "      <td>0</td>\n",
       "      <td>1</td>\n",
       "      <td>1</td>\n",
       "      <td>0</td>\n",
       "    </tr>\n",
       "    <tr>\n",
       "      <th>2</th>\n",
       "      <td>4150000</td>\n",
       "      <td>105000</td>\n",
       "      <td>1500</td>\n",
       "      <td>7</td>\n",
       "      <td>1</td>\n",
       "      <td>1</td>\n",
       "      <td>0</td>\n",
       "      <td>1</td>\n",
       "      <td>0</td>\n",
       "    </tr>\n",
       "    <tr>\n",
       "      <th>3</th>\n",
       "      <td>3790000</td>\n",
       "      <td>125000</td>\n",
       "      <td>1330</td>\n",
       "      <td>10</td>\n",
       "      <td>1</td>\n",
       "      <td>1</td>\n",
       "      <td>0</td>\n",
       "      <td>1</td>\n",
       "      <td>0</td>\n",
       "    </tr>\n",
       "    <tr>\n",
       "      <th>4</th>\n",
       "      <td>4525000</td>\n",
       "      <td>38300</td>\n",
       "      <td>1500</td>\n",
       "      <td>7</td>\n",
       "      <td>1</td>\n",
       "      <td>1</td>\n",
       "      <td>0</td>\n",
       "      <td>1</td>\n",
       "      <td>0</td>\n",
       "    </tr>\n",
       "  </tbody>\n",
       "</table>\n",
       "</div>"
      ],
      "text/plain": [
       "   Cars_price  Cars_Mileage  Cars_Engine_capacity  no_years  TM_Automatic  \\\n",
       "0     4125000        113000                  1490         8             1   \n",
       "1     4825000         30000                  1490         7             1   \n",
       "2     4150000        105000                  1500         7             1   \n",
       "3     3790000        125000                  1330        10             1   \n",
       "4     4525000         38300                  1500         7             1   \n",
       "\n",
       "   FT_Hybrid  FT_Petrol  CB_Honda  CB_Toyota  \n",
       "0          0          1         1          0  \n",
       "1          0          1         1          0  \n",
       "2          1          0         1          0  \n",
       "3          1          0         1          0  \n",
       "4          1          0         1          0  "
      ]
     },
     "execution_count": 1224,
     "metadata": {},
     "output_type": "execute_result"
    }
   ],
   "source": [
    "final_dataset.head()"
   ]
  },
  {
   "cell_type": "code",
   "execution_count": 1225,
   "metadata": {
    "scrolled": true
   },
   "outputs": [
    {
     "data": {
      "text/html": [
       "<div>\n",
       "<style scoped>\n",
       "    .dataframe tbody tr th:only-of-type {\n",
       "        vertical-align: middle;\n",
       "    }\n",
       "\n",
       "    .dataframe tbody tr th {\n",
       "        vertical-align: top;\n",
       "    }\n",
       "\n",
       "    .dataframe thead th {\n",
       "        text-align: right;\n",
       "    }\n",
       "</style>\n",
       "<table border=\"1\" class=\"dataframe\">\n",
       "  <thead>\n",
       "    <tr style=\"text-align: right;\">\n",
       "      <th></th>\n",
       "      <th>Cars_price</th>\n",
       "      <th>Cars_Mileage</th>\n",
       "      <th>Cars_Engine_capacity</th>\n",
       "      <th>no_years</th>\n",
       "      <th>TM_Automatic</th>\n",
       "      <th>FT_Hybrid</th>\n",
       "      <th>FT_Petrol</th>\n",
       "      <th>CB_Honda</th>\n",
       "      <th>CB_Toyota</th>\n",
       "    </tr>\n",
       "  </thead>\n",
       "  <tbody>\n",
       "    <tr>\n",
       "      <th>Cars_price</th>\n",
       "      <td>1.000000</td>\n",
       "      <td>-0.161382</td>\n",
       "      <td>0.394268</td>\n",
       "      <td>-0.754244</td>\n",
       "      <td>NaN</td>\n",
       "      <td>0.196845</td>\n",
       "      <td>-0.196845</td>\n",
       "      <td>-0.111427</td>\n",
       "      <td>0.111427</td>\n",
       "    </tr>\n",
       "    <tr>\n",
       "      <th>Cars_Mileage</th>\n",
       "      <td>-0.161382</td>\n",
       "      <td>1.000000</td>\n",
       "      <td>0.008450</td>\n",
       "      <td>0.135306</td>\n",
       "      <td>NaN</td>\n",
       "      <td>-0.158466</td>\n",
       "      <td>0.158466</td>\n",
       "      <td>0.064377</td>\n",
       "      <td>-0.064377</td>\n",
       "    </tr>\n",
       "    <tr>\n",
       "      <th>Cars_Engine_capacity</th>\n",
       "      <td>0.394268</td>\n",
       "      <td>0.008450</td>\n",
       "      <td>1.000000</td>\n",
       "      <td>-0.318350</td>\n",
       "      <td>NaN</td>\n",
       "      <td>0.056193</td>\n",
       "      <td>-0.056193</td>\n",
       "      <td>-0.432871</td>\n",
       "      <td>0.432871</td>\n",
       "    </tr>\n",
       "    <tr>\n",
       "      <th>no_years</th>\n",
       "      <td>-0.754244</td>\n",
       "      <td>0.135306</td>\n",
       "      <td>-0.318350</td>\n",
       "      <td>1.000000</td>\n",
       "      <td>NaN</td>\n",
       "      <td>-0.296115</td>\n",
       "      <td>0.296115</td>\n",
       "      <td>0.195276</td>\n",
       "      <td>-0.195276</td>\n",
       "    </tr>\n",
       "    <tr>\n",
       "      <th>TM_Automatic</th>\n",
       "      <td>NaN</td>\n",
       "      <td>NaN</td>\n",
       "      <td>NaN</td>\n",
       "      <td>NaN</td>\n",
       "      <td>NaN</td>\n",
       "      <td>NaN</td>\n",
       "      <td>NaN</td>\n",
       "      <td>NaN</td>\n",
       "      <td>NaN</td>\n",
       "    </tr>\n",
       "    <tr>\n",
       "      <th>FT_Hybrid</th>\n",
       "      <td>0.196845</td>\n",
       "      <td>-0.158466</td>\n",
       "      <td>0.056193</td>\n",
       "      <td>-0.296115</td>\n",
       "      <td>NaN</td>\n",
       "      <td>1.000000</td>\n",
       "      <td>-1.000000</td>\n",
       "      <td>-0.180788</td>\n",
       "      <td>0.180788</td>\n",
       "    </tr>\n",
       "    <tr>\n",
       "      <th>FT_Petrol</th>\n",
       "      <td>-0.196845</td>\n",
       "      <td>0.158466</td>\n",
       "      <td>-0.056193</td>\n",
       "      <td>0.296115</td>\n",
       "      <td>NaN</td>\n",
       "      <td>-1.000000</td>\n",
       "      <td>1.000000</td>\n",
       "      <td>0.180788</td>\n",
       "      <td>-0.180788</td>\n",
       "    </tr>\n",
       "    <tr>\n",
       "      <th>CB_Honda</th>\n",
       "      <td>-0.111427</td>\n",
       "      <td>0.064377</td>\n",
       "      <td>-0.432871</td>\n",
       "      <td>0.195276</td>\n",
       "      <td>NaN</td>\n",
       "      <td>-0.180788</td>\n",
       "      <td>0.180788</td>\n",
       "      <td>1.000000</td>\n",
       "      <td>-1.000000</td>\n",
       "    </tr>\n",
       "    <tr>\n",
       "      <th>CB_Toyota</th>\n",
       "      <td>0.111427</td>\n",
       "      <td>-0.064377</td>\n",
       "      <td>0.432871</td>\n",
       "      <td>-0.195276</td>\n",
       "      <td>NaN</td>\n",
       "      <td>0.180788</td>\n",
       "      <td>-0.180788</td>\n",
       "      <td>-1.000000</td>\n",
       "      <td>1.000000</td>\n",
       "    </tr>\n",
       "  </tbody>\n",
       "</table>\n",
       "</div>"
      ],
      "text/plain": [
       "                      Cars_price  Cars_Mileage  Cars_Engine_capacity  \\\n",
       "Cars_price              1.000000     -0.161382              0.394268   \n",
       "Cars_Mileage           -0.161382      1.000000              0.008450   \n",
       "Cars_Engine_capacity    0.394268      0.008450              1.000000   \n",
       "no_years               -0.754244      0.135306             -0.318350   \n",
       "TM_Automatic                 NaN           NaN                   NaN   \n",
       "FT_Hybrid               0.196845     -0.158466              0.056193   \n",
       "FT_Petrol              -0.196845      0.158466             -0.056193   \n",
       "CB_Honda               -0.111427      0.064377             -0.432871   \n",
       "CB_Toyota               0.111427     -0.064377              0.432871   \n",
       "\n",
       "                      no_years  TM_Automatic  FT_Hybrid  FT_Petrol  CB_Honda  \\\n",
       "Cars_price           -0.754244           NaN   0.196845  -0.196845 -0.111427   \n",
       "Cars_Mileage          0.135306           NaN  -0.158466   0.158466  0.064377   \n",
       "Cars_Engine_capacity -0.318350           NaN   0.056193  -0.056193 -0.432871   \n",
       "no_years              1.000000           NaN  -0.296115   0.296115  0.195276   \n",
       "TM_Automatic               NaN           NaN        NaN        NaN       NaN   \n",
       "FT_Hybrid            -0.296115           NaN   1.000000  -1.000000 -0.180788   \n",
       "FT_Petrol             0.296115           NaN  -1.000000   1.000000  0.180788   \n",
       "CB_Honda              0.195276           NaN  -0.180788   0.180788  1.000000   \n",
       "CB_Toyota            -0.195276           NaN   0.180788  -0.180788 -1.000000   \n",
       "\n",
       "                      CB_Toyota  \n",
       "Cars_price             0.111427  \n",
       "Cars_Mileage          -0.064377  \n",
       "Cars_Engine_capacity   0.432871  \n",
       "no_years              -0.195276  \n",
       "TM_Automatic                NaN  \n",
       "FT_Hybrid              0.180788  \n",
       "FT_Petrol             -0.180788  \n",
       "CB_Honda              -1.000000  \n",
       "CB_Toyota              1.000000  "
      ]
     },
     "execution_count": 1225,
     "metadata": {},
     "output_type": "execute_result"
    }
   ],
   "source": [
    "final_dataset.corr()"
   ]
  },
  {
   "cell_type": "code",
   "execution_count": null,
   "metadata": {},
   "outputs": [],
   "source": []
  },
  {
   "cell_type": "code",
   "execution_count": null,
   "metadata": {},
   "outputs": [],
   "source": []
  },
  {
   "cell_type": "code",
   "execution_count": 1226,
   "metadata": {},
   "outputs": [],
   "source": [
    "X=final_dataset.iloc[:,1:]\n",
    "y=final_dataset.iloc[:,0]"
   ]
  },
  {
   "cell_type": "code",
   "execution_count": null,
   "metadata": {},
   "outputs": [],
   "source": []
  },
  {
   "cell_type": "code",
   "execution_count": 1227,
   "metadata": {},
   "outputs": [
    {
     "data": {
      "text/html": [
       "<div>\n",
       "<style scoped>\n",
       "    .dataframe tbody tr th:only-of-type {\n",
       "        vertical-align: middle;\n",
       "    }\n",
       "\n",
       "    .dataframe tbody tr th {\n",
       "        vertical-align: top;\n",
       "    }\n",
       "\n",
       "    .dataframe thead th {\n",
       "        text-align: right;\n",
       "    }\n",
       "</style>\n",
       "<table border=\"1\" class=\"dataframe\">\n",
       "  <thead>\n",
       "    <tr style=\"text-align: right;\">\n",
       "      <th></th>\n",
       "      <th>Cars_Mileage</th>\n",
       "      <th>Cars_Engine_capacity</th>\n",
       "      <th>no_years</th>\n",
       "      <th>TM_Automatic</th>\n",
       "      <th>FT_Hybrid</th>\n",
       "      <th>FT_Petrol</th>\n",
       "      <th>CB_Honda</th>\n",
       "      <th>CB_Toyota</th>\n",
       "    </tr>\n",
       "  </thead>\n",
       "  <tbody>\n",
       "    <tr>\n",
       "      <th>0</th>\n",
       "      <td>113000</td>\n",
       "      <td>1490</td>\n",
       "      <td>8</td>\n",
       "      <td>1</td>\n",
       "      <td>0</td>\n",
       "      <td>1</td>\n",
       "      <td>1</td>\n",
       "      <td>0</td>\n",
       "    </tr>\n",
       "    <tr>\n",
       "      <th>1</th>\n",
       "      <td>30000</td>\n",
       "      <td>1490</td>\n",
       "      <td>7</td>\n",
       "      <td>1</td>\n",
       "      <td>0</td>\n",
       "      <td>1</td>\n",
       "      <td>1</td>\n",
       "      <td>0</td>\n",
       "    </tr>\n",
       "    <tr>\n",
       "      <th>2</th>\n",
       "      <td>105000</td>\n",
       "      <td>1500</td>\n",
       "      <td>7</td>\n",
       "      <td>1</td>\n",
       "      <td>1</td>\n",
       "      <td>0</td>\n",
       "      <td>1</td>\n",
       "      <td>0</td>\n",
       "    </tr>\n",
       "    <tr>\n",
       "      <th>3</th>\n",
       "      <td>125000</td>\n",
       "      <td>1330</td>\n",
       "      <td>10</td>\n",
       "      <td>1</td>\n",
       "      <td>1</td>\n",
       "      <td>0</td>\n",
       "      <td>1</td>\n",
       "      <td>0</td>\n",
       "    </tr>\n",
       "    <tr>\n",
       "      <th>4</th>\n",
       "      <td>38300</td>\n",
       "      <td>1500</td>\n",
       "      <td>7</td>\n",
       "      <td>1</td>\n",
       "      <td>1</td>\n",
       "      <td>0</td>\n",
       "      <td>1</td>\n",
       "      <td>0</td>\n",
       "    </tr>\n",
       "  </tbody>\n",
       "</table>\n",
       "</div>"
      ],
      "text/plain": [
       "   Cars_Mileage  Cars_Engine_capacity  no_years  TM_Automatic  FT_Hybrid  \\\n",
       "0        113000                  1490         8             1          0   \n",
       "1         30000                  1490         7             1          0   \n",
       "2        105000                  1500         7             1          1   \n",
       "3        125000                  1330        10             1          1   \n",
       "4         38300                  1500         7             1          1   \n",
       "\n",
       "   FT_Petrol  CB_Honda  CB_Toyota  \n",
       "0          1         1          0  \n",
       "1          1         1          0  \n",
       "2          0         1          0  \n",
       "3          0         1          0  \n",
       "4          0         1          0  "
      ]
     },
     "execution_count": 1227,
     "metadata": {},
     "output_type": "execute_result"
    }
   ],
   "source": [
    "X.head()"
   ]
  },
  {
   "cell_type": "code",
   "execution_count": 1228,
   "metadata": {},
   "outputs": [
    {
     "data": {
      "text/plain": [
       "0    4125000\n",
       "1    4825000\n",
       "2    4150000\n",
       "3    3790000\n",
       "4    4525000\n",
       "Name: Cars_price, dtype: int64"
      ]
     },
     "execution_count": 1228,
     "metadata": {},
     "output_type": "execute_result"
    }
   ],
   "source": [
    "y.head()"
   ]
  },
  {
   "cell_type": "code",
   "execution_count": 1229,
   "metadata": {
    "scrolled": true
   },
   "outputs": [
    {
     "data": {
      "text/plain": [
       "ExtraTreesRegressor()"
      ]
     },
     "execution_count": 1229,
     "metadata": {},
     "output_type": "execute_result"
    }
   ],
   "source": [
    "\n",
    "\n",
    "from sklearn.ensemble import ExtraTreesRegressor\n",
    "\n",
    "model = ExtraTreesRegressor()\n",
    "model.fit(X,y)"
   ]
  },
  {
   "cell_type": "code",
   "execution_count": 1230,
   "metadata": {},
   "outputs": [
    {
     "name": "stdout",
     "output_type": "stream",
     "text": [
      "[0.23554995 0.08133803 0.62680274 0.         0.00995885 0.01097716\n",
      " 0.01780124 0.01757204]\n"
     ]
    }
   ],
   "source": [
    "print(model.feature_importances_)"
   ]
  },
  {
   "cell_type": "code",
   "execution_count": 1231,
   "metadata": {},
   "outputs": [
    {
     "data": {
      "image/png": "[encoded data removed]",
      "text/plain": [
       "<Figure size 432x288 with 1 Axes>"
      ]
     },
     "metadata": {
      "needs_background": "light"
     },
     "output_type": "display_data"
    }
   ],
   "source": [
    "#shows how impportant each factor is to the decision of price\n",
    "feat_importances = pd.Series(model.feature_importances_, index=X.columns)\n",
    "feat_importances.nlargest(5).plot(kind='barh')\n",
    "plt.show()"
   ]
  },
  {
   "cell_type": "code",
   "execution_count": 1232,
   "metadata": {},
   "outputs": [],
   "source": [
    "#splitting train set and test set\n",
    "from sklearn.model_selection import train_test_split\n",
    "X_train, X_test, y_train, y_test = train_test_split(X, y, test_size=0.3, random_state=0)"
   ]
  },
  {
   "cell_type": "code",
   "execution_count": 1233,
   "metadata": {},
   "outputs": [
    {
     "data": {
      "text/plain": [
       "107    4425000\n",
       "16     3550000\n",
       "109    6400000\n",
       "75     4375000\n",
       "106    3450000\n",
       "        ...   \n",
       "251    4090000\n",
       "192    3925000\n",
       "117    5850000\n",
       "47     5250000\n",
       "172    4375000\n",
       "Name: Cars_price, Length: 184, dtype: int64"
      ]
     },
     "execution_count": 1233,
     "metadata": {},
     "output_type": "execute_result"
    }
   ],
   "source": [
    "y_train"
   ]
  },
  {
   "cell_type": "code",
   "execution_count": 1234,
   "metadata": {},
   "outputs": [],
   "source": [
    "from sklearn.ensemble import RandomForestRegressor"
   ]
  },
  {
   "cell_type": "code",
   "execution_count": 1235,
   "metadata": {},
   "outputs": [],
   "source": [
    "regressor=RandomForestRegressor()"
   ]
  },
  {
   "cell_type": "code",
   "execution_count": 1236,
   "metadata": {},
   "outputs": [
    {
     "name": "stdout",
     "output_type": "stream",
     "text": [
      "[100, 200, 300, 400, 500, 600, 700, 800, 900, 1000, 1100, 1200]\n"
     ]
    }
   ],
   "source": [
    "n_estimators = [int(x) for x in np.linspace(start = 100, stop = 1200, num = 12)]\n",
    "print(n_estimators)"
   ]
  },
  {
   "cell_type": "code",
   "execution_count": 1237,
   "metadata": {},
   "outputs": [],
   "source": [
    "from sklearn.model_selection import RandomizedSearchCV"
   ]
  },
  {
   "cell_type": "code",
   "execution_count": 1238,
   "metadata": {},
   "outputs": [],
   "source": [
    "\n",
    "\n",
    "\n",
    "n_estimators = [int(x) for x in np.linspace(start = 100, stop = 1200, num = 12)]\n",
    "\n",
    "max_features = ['auto', 'sqrt']\n",
    "\n",
    "max_depth = [int(x) for x in np.linspace(5, 30, num = 6)]\n",
    "\n",
    "min_samples_split = [2, 5, 10, 15, 100]\n",
    "\n",
    "min_samples_leaf = [1, 2, 5, 10]\n"
   ]
  },
  {
   "cell_type": "code",
   "execution_count": 1239,
   "metadata": {},
   "outputs": [
    {
     "name": "stdout",
     "output_type": "stream",
     "text": [
      "{'n_estimators': [100, 200, 300, 400, 500, 600, 700, 800, 900, 1000, 1100, 1200], 'max_features': ['auto', 'sqrt'], 'max_depth': [5, 10, 15, 20, 25, 30], 'min_samples_split': [2, 5, 10, 15, 100], 'min_samples_leaf': [1, 2, 5, 10]}\n"
     ]
    }
   ],
   "source": [
    "\n",
    "random_grid = {'n_estimators': n_estimators,\n",
    "               'max_features': max_features,\n",
    "               'max_depth': max_depth,\n",
    "               'min_samples_split': min_samples_split,\n",
    "               'min_samples_leaf': min_samples_leaf}\n",
    "\n",
    "print(random_grid)"
   ]
  },
  {
   "cell_type": "code",
   "execution_count": 1240,
   "metadata": {},
   "outputs": [],
   "source": [
    "\n",
    "rf = RandomForestRegressor()"
   ]
  },
  {
   "cell_type": "code",
   "execution_count": 1241,
   "metadata": {},
   "outputs": [],
   "source": [
    "\n",
    "rf_random = RandomizedSearchCV(estimator = rf, param_distributions = random_grid,scoring='neg_mean_squared_error', n_iter = 10, cv = 5, verbose=2, random_state=42, n_jobs = 1)"
   ]
  },
  {
   "cell_type": "code",
   "execution_count": 1242,
   "metadata": {},
   "outputs": [
    {
     "name": "stdout",
     "output_type": "stream",
     "text": [
      "Fitting 5 folds for each of 10 candidates, totalling 50 fits\n",
      "[CV] n_estimators=900, min_samples_split=5, min_samples_leaf=5, max_features=sqrt, max_depth=10 \n"
     ]
    },
    {
     "name": "stderr",
     "output_type": "stream",
     "text": [
      "[Parallel(n_jobs=1)]: Using backend SequentialBackend with 1 concurrent workers.\n"
     ]
    },
    {
     "name": "stdout",
     "output_type": "stream",
     "text": [
      "[CV]  n_estimators=900, min_samples_split=5, min_samples_leaf=5, max_features=sqrt, max_depth=10, total=   0.9s\n",
      "[CV] n_estimators=900, min_samples_split=5, min_samples_leaf=5, max_features=sqrt, max_depth=10 \n"
     ]
    },
    {
     "name": "stderr",
     "output_type": "stream",
     "text": [
      "[Parallel(n_jobs=1)]: Done   1 out of   1 | elapsed:    0.9s remaining:    0.0s\n"
     ]
    },
    {
     "name": "stdout",
     "output_type": "stream",
     "text": [
      "[CV]  n_estimators=900, min_samples_split=5, min_samples_leaf=5, max_features=sqrt, max_depth=10, total=   1.0s\n",
      "[CV] n_estimators=900, min_samples_split=5, min_samples_leaf=5, max_features=sqrt, max_depth=10 \n",
      "[CV]  n_estimators=900, min_samples_split=5, min_samples_leaf=5, max_features=sqrt, max_depth=10, total=   0.9s\n",
      "[CV] n_estimators=900, min_samples_split=5, min_samples_leaf=5, max_features=sqrt, max_depth=10 \n",
      "[CV]  n_estimators=900, min_samples_split=5, min_samples_leaf=5, max_features=sqrt, max_depth=10, total=   0.8s\n",
      "[CV] n_estimators=900, min_samples_split=5, min_samples_leaf=5, max_features=sqrt, max_depth=10 \n",
      "[CV]  n_estimators=900, min_samples_split=5, min_samples_leaf=5, max_features=sqrt, max_depth=10, total=   0.9s\n",
      "[CV] n_estimators=1100, min_samples_split=10, min_samples_leaf=2, max_features=sqrt, max_depth=15 \n",
      "[CV]  n_estimators=1100, min_samples_split=10, min_samples_leaf=2, max_features=sqrt, max_depth=15, total=   1.1s\n",
      "[CV] n_estimators=1100, min_samples_split=10, min_samples_leaf=2, max_features=sqrt, max_depth=15 \n",
      "[CV]  n_estimators=1100, min_samples_split=10, min_samples_leaf=2, max_features=sqrt, max_depth=15, total=   1.1s\n",
      "[CV] n_estimators=1100, min_samples_split=10, min_samples_leaf=2, max_features=sqrt, max_depth=15 \n",
      "[CV]  n_estimators=1100, min_samples_split=10, min_samples_leaf=2, max_features=sqrt, max_depth=15, total=   1.1s\n",
      "[CV] n_estimators=1100, min_samples_split=10, min_samples_leaf=2, max_features=sqrt, max_depth=15 \n",
      "[CV]  n_estimators=1100, min_samples_split=10, min_samples_leaf=2, max_features=sqrt, max_depth=15, total=   1.1s\n",
      "[CV] n_estimators=1100, min_samples_split=10, min_samples_leaf=2, max_features=sqrt, max_depth=15 \n",
      "[CV]  n_estimators=1100, min_samples_split=10, min_samples_leaf=2, max_features=sqrt, max_depth=15, total=   1.1s\n",
      "[CV] n_estimators=300, min_samples_split=100, min_samples_leaf=5, max_features=auto, max_depth=15 \n",
      "[CV]  n_estimators=300, min_samples_split=100, min_samples_leaf=5, max_features=auto, max_depth=15, total=   0.3s\n",
      "[CV] n_estimators=300, min_samples_split=100, min_samples_leaf=5, max_features=auto, max_depth=15 \n",
      "[CV]  n_estimators=300, min_samples_split=100, min_samples_leaf=5, max_features=auto, max_depth=15, total=   0.3s\n",
      "[CV] n_estimators=300, min_samples_split=100, min_samples_leaf=5, max_features=auto, max_depth=15 \n",
      "[CV]  n_estimators=300, min_samples_split=100, min_samples_leaf=5, max_features=auto, max_depth=15, total=   0.3s\n",
      "[CV] n_estimators=300, min_samples_split=100, min_samples_leaf=5, max_features=auto, max_depth=15 \n",
      "[CV]  n_estimators=300, min_samples_split=100, min_samples_leaf=5, max_features=auto, max_depth=15, total=   0.3s\n",
      "[CV] n_estimators=300, min_samples_split=100, min_samples_leaf=5, max_features=auto, max_depth=15 \n",
      "[CV]  n_estimators=300, min_samples_split=100, min_samples_leaf=5, max_features=auto, max_depth=15, total=   0.3s\n",
      "[CV] n_estimators=400, min_samples_split=5, min_samples_leaf=5, max_features=auto, max_depth=15 \n",
      "[CV]  n_estimators=400, min_samples_split=5, min_samples_leaf=5, max_features=auto, max_depth=15, total=   0.4s\n",
      "[CV] n_estimators=400, min_samples_split=5, min_samples_leaf=5, max_features=auto, max_depth=15 \n",
      "[CV]  n_estimators=400, min_samples_split=5, min_samples_leaf=5, max_features=auto, max_depth=15, total=   0.4s\n",
      "[CV] n_estimators=400, min_samples_split=5, min_samples_leaf=5, max_features=auto, max_depth=15 \n",
      "[CV]  n_estimators=400, min_samples_split=5, min_samples_leaf=5, max_features=auto, max_depth=15, total=   0.5s\n",
      "[CV] n_estimators=400, min_samples_split=5, min_samples_leaf=5, max_features=auto, max_depth=15 \n",
      "[CV]  n_estimators=400, min_samples_split=5, min_samples_leaf=5, max_features=auto, max_depth=15, total=   0.4s\n",
      "[CV] n_estimators=400, min_samples_split=5, min_samples_leaf=5, max_features=auto, max_depth=15 \n",
      "[CV]  n_estimators=400, min_samples_split=5, min_samples_leaf=5, max_features=auto, max_depth=15, total=   0.4s\n",
      "[CV] n_estimators=700, min_samples_split=5, min_samples_leaf=10, max_features=auto, max_depth=20 \n",
      "[CV]  n_estimators=700, min_samples_split=5, min_samples_leaf=10, max_features=auto, max_depth=20, total=   0.6s\n",
      "[CV] n_estimators=700, min_samples_split=5, min_samples_leaf=10, max_features=auto, max_depth=20 \n",
      "[CV]  n_estimators=700, min_samples_split=5, min_samples_leaf=10, max_features=auto, max_depth=20, total=   0.7s\n",
      "[CV] n_estimators=700, min_samples_split=5, min_samples_leaf=10, max_features=auto, max_depth=20 \n",
      "[CV]  n_estimators=700, min_samples_split=5, min_samples_leaf=10, max_features=auto, max_depth=20, total=   0.7s\n",
      "[CV] n_estimators=700, min_samples_split=5, min_samples_leaf=10, max_features=auto, max_depth=20 \n",
      "[CV]  n_estimators=700, min_samples_split=5, min_samples_leaf=10, max_features=auto, max_depth=20, total=   0.6s\n",
      "[CV] n_estimators=700, min_samples_split=5, min_samples_leaf=10, max_features=auto, max_depth=20 \n",
      "[CV]  n_estimators=700, min_samples_split=5, min_samples_leaf=10, max_features=auto, max_depth=20, total=   0.7s\n",
      "[CV] n_estimators=1000, min_samples_split=2, min_samples_leaf=1, max_features=sqrt, max_depth=25 \n",
      "[CV]  n_estimators=1000, min_samples_split=2, min_samples_leaf=1, max_features=sqrt, max_depth=25, total=   1.0s\n",
      "[CV] n_estimators=1000, min_samples_split=2, min_samples_leaf=1, max_features=sqrt, max_depth=25 \n",
      "[CV]  n_estimators=1000, min_samples_split=2, min_samples_leaf=1, max_features=sqrt, max_depth=25, total=   1.1s\n",
      "[CV] n_estimators=1000, min_samples_split=2, min_samples_leaf=1, max_features=sqrt, max_depth=25 \n",
      "[CV]  n_estimators=1000, min_samples_split=2, min_samples_leaf=1, max_features=sqrt, max_depth=25, total=   1.2s\n",
      "[CV] n_estimators=1000, min_samples_split=2, min_samples_leaf=1, max_features=sqrt, max_depth=25 \n",
      "[CV]  n_estimators=1000, min_samples_split=2, min_samples_leaf=1, max_features=sqrt, max_depth=25, total=   1.1s\n",
      "[CV] n_estimators=1000, min_samples_split=2, min_samples_leaf=1, max_features=sqrt, max_depth=25 \n",
      "[CV]  n_estimators=1000, min_samples_split=2, min_samples_leaf=1, max_features=sqrt, max_depth=25, total=   1.2s\n",
      "[CV] n_estimators=1100, min_samples_split=15, min_samples_leaf=10, max_features=sqrt, max_depth=5 \n",
      "[CV]  n_estimators=1100, min_samples_split=15, min_samples_leaf=10, max_features=sqrt, max_depth=5, total=   1.2s\n",
      "[CV] n_estimators=1100, min_samples_split=15, min_samples_leaf=10, max_features=sqrt, max_depth=5 \n",
      "[CV]  n_estimators=1100, min_samples_split=15, min_samples_leaf=10, max_features=sqrt, max_depth=5, total=   1.4s\n",
      "[CV] n_estimators=1100, min_samples_split=15, min_samples_leaf=10, max_features=sqrt, max_depth=5 \n",
      "[CV]  n_estimators=1100, min_samples_split=15, min_samples_leaf=10, max_features=sqrt, max_depth=5, total=   1.3s\n",
      "[CV] n_estimators=1100, min_samples_split=15, min_samples_leaf=10, max_features=sqrt, max_depth=5 \n",
      "[CV]  n_estimators=1100, min_samples_split=15, min_samples_leaf=10, max_features=sqrt, max_depth=5, total=   1.4s\n",
      "[CV] n_estimators=1100, min_samples_split=15, min_samples_leaf=10, max_features=sqrt, max_depth=5 \n",
      "[CV]  n_estimators=1100, min_samples_split=15, min_samples_leaf=10, max_features=sqrt, max_depth=5, total=   1.6s\n",
      "[CV] n_estimators=300, min_samples_split=15, min_samples_leaf=1, max_features=sqrt, max_depth=15 \n",
      "[CV]  n_estimators=300, min_samples_split=15, min_samples_leaf=1, max_features=sqrt, max_depth=15, total=   0.3s\n",
      "[CV] n_estimators=300, min_samples_split=15, min_samples_leaf=1, max_features=sqrt, max_depth=15 \n",
      "[CV]  n_estimators=300, min_samples_split=15, min_samples_leaf=1, max_features=sqrt, max_depth=15, total=   0.4s\n",
      "[CV] n_estimators=300, min_samples_split=15, min_samples_leaf=1, max_features=sqrt, max_depth=15 \n",
      "[CV]  n_estimators=300, min_samples_split=15, min_samples_leaf=1, max_features=sqrt, max_depth=15, total=   0.3s\n",
      "[CV] n_estimators=300, min_samples_split=15, min_samples_leaf=1, max_features=sqrt, max_depth=15 \n",
      "[CV]  n_estimators=300, min_samples_split=15, min_samples_leaf=1, max_features=sqrt, max_depth=15, total=   0.3s\n",
      "[CV] n_estimators=300, min_samples_split=15, min_samples_leaf=1, max_features=sqrt, max_depth=15 \n",
      "[CV]  n_estimators=300, min_samples_split=15, min_samples_leaf=1, max_features=sqrt, max_depth=15, total=   0.3s\n",
      "[CV] n_estimators=700, min_samples_split=10, min_samples_leaf=2, max_features=sqrt, max_depth=5 \n"
     ]
    },
    {
     "name": "stdout",
     "output_type": "stream",
     "text": [
      "[CV]  n_estimators=700, min_samples_split=10, min_samples_leaf=2, max_features=sqrt, max_depth=5, total=   0.8s\n",
      "[CV] n_estimators=700, min_samples_split=10, min_samples_leaf=2, max_features=sqrt, max_depth=5 \n",
      "[CV]  n_estimators=700, min_samples_split=10, min_samples_leaf=2, max_features=sqrt, max_depth=5, total=   0.8s\n",
      "[CV] n_estimators=700, min_samples_split=10, min_samples_leaf=2, max_features=sqrt, max_depth=5 \n",
      "[CV]  n_estimators=700, min_samples_split=10, min_samples_leaf=2, max_features=sqrt, max_depth=5, total=   0.8s\n",
      "[CV] n_estimators=700, min_samples_split=10, min_samples_leaf=2, max_features=sqrt, max_depth=5 \n",
      "[CV]  n_estimators=700, min_samples_split=10, min_samples_leaf=2, max_features=sqrt, max_depth=5, total=   0.8s\n",
      "[CV] n_estimators=700, min_samples_split=10, min_samples_leaf=2, max_features=sqrt, max_depth=5 \n",
      "[CV]  n_estimators=700, min_samples_split=10, min_samples_leaf=2, max_features=sqrt, max_depth=5, total=   0.8s\n",
      "[CV] n_estimators=700, min_samples_split=15, min_samples_leaf=1, max_features=auto, max_depth=20 \n",
      "[CV]  n_estimators=700, min_samples_split=15, min_samples_leaf=1, max_features=auto, max_depth=20, total=   0.8s\n",
      "[CV] n_estimators=700, min_samples_split=15, min_samples_leaf=1, max_features=auto, max_depth=20 \n",
      "[CV]  n_estimators=700, min_samples_split=15, min_samples_leaf=1, max_features=auto, max_depth=20, total=   0.8s\n",
      "[CV] n_estimators=700, min_samples_split=15, min_samples_leaf=1, max_features=auto, max_depth=20 \n",
      "[CV]  n_estimators=700, min_samples_split=15, min_samples_leaf=1, max_features=auto, max_depth=20, total=   0.9s\n",
      "[CV] n_estimators=700, min_samples_split=15, min_samples_leaf=1, max_features=auto, max_depth=20 \n",
      "[CV]  n_estimators=700, min_samples_split=15, min_samples_leaf=1, max_features=auto, max_depth=20, total=   0.8s\n",
      "[CV] n_estimators=700, min_samples_split=15, min_samples_leaf=1, max_features=auto, max_depth=20 \n",
      "[CV]  n_estimators=700, min_samples_split=15, min_samples_leaf=1, max_features=auto, max_depth=20, total=   0.9s\n"
     ]
    },
    {
     "name": "stderr",
     "output_type": "stream",
     "text": [
      "[Parallel(n_jobs=1)]: Done  50 out of  50 | elapsed:   39.3s finished\n"
     ]
    },
    {
     "data": {
      "text/plain": [
       "RandomizedSearchCV(cv=5, estimator=RandomForestRegressor(), n_jobs=1,\n",
       "                   param_distributions={'max_depth': [5, 10, 15, 20, 25, 30],\n",
       "                                        'max_features': ['auto', 'sqrt'],\n",
       "                                        'min_samples_leaf': [1, 2, 5, 10],\n",
       "                                        'min_samples_split': [2, 5, 10, 15,\n",
       "                                                              100],\n",
       "                                        'n_estimators': [100, 200, 300, 400,\n",
       "                                                         500, 600, 700, 800,\n",
       "                                                         900, 1000, 1100,\n",
       "                                                         1200]},\n",
       "                   random_state=42, scoring='neg_mean_squared_error',\n",
       "                   verbose=2)"
      ]
     },
     "execution_count": 1242,
     "metadata": {},
     "output_type": "execute_result"
    }
   ],
   "source": [
    "rf_random.fit(X_train,y_train)"
   ]
  },
  {
   "cell_type": "code",
   "execution_count": 1243,
   "metadata": {},
   "outputs": [
    {
     "data": {
      "text/plain": [
       "{'n_estimators': 700,\n",
       " 'min_samples_split': 15,\n",
       " 'min_samples_leaf': 1,\n",
       " 'max_features': 'auto',\n",
       " 'max_depth': 20}"
      ]
     },
     "execution_count": 1243,
     "metadata": {},
     "output_type": "execute_result"
    }
   ],
   "source": [
    "rf_random.best_params_"
   ]
  },
  {
   "cell_type": "code",
   "execution_count": 1244,
   "metadata": {},
   "outputs": [
    {
     "data": {
      "text/plain": [
       "-152619018251.03613"
      ]
     },
     "execution_count": 1244,
     "metadata": {},
     "output_type": "execute_result"
    }
   ],
   "source": [
    "rf_random.best_score_"
   ]
  },
  {
   "cell_type": "code",
   "execution_count": 1245,
   "metadata": {},
   "outputs": [],
   "source": [
    "predictions=rf_random.predict(X_test)"
   ]
  },
  {
   "cell_type": "code",
   "execution_count": 1246,
   "metadata": {},
   "outputs": [
    {
     "data": {
      "text/plain": [
       "array([4528640.2591726 , 4353174.36405925, 4382993.95634403,\n",
       "       3700990.59063298, 4919078.40325398, 6261384.31995945,\n",
       "       4663714.33456131, 4246630.54841962, 4292632.50803707,\n",
       "       3084463.07590624, 4146559.0599157 , 4108503.29866809,\n",
       "       4262084.49130096, 3560178.2790297 , 3997845.18804791,\n",
       "       3708472.30806164, 4375695.70984625, 4488549.84601108,\n",
       "       3815452.36352965, 3954575.37870895, 4359623.48259996,\n",
       "       3784263.17604063, 4306958.04653656, 3630858.26678127,\n",
       "       4312696.33803057, 4453888.36074312, 3986663.33132436,\n",
       "       4350301.42865091, 3959994.69656091, 3588564.76212225,\n",
       "       4317965.529035  , 4005331.82847529, 4946449.23962493,\n",
       "       3693914.23991088, 3809398.03373705, 3694073.29352199,\n",
       "       4241802.63006514, 3751113.28600691, 3180011.48034453,\n",
       "       4375647.85842886, 4205439.14512472, 4294693.6623517 ,\n",
       "       4462478.72806064, 3751471.40289002, 4278234.35184717,\n",
       "       3091143.12753328, 4207096.87763297, 3661177.04229265,\n",
       "       4332820.3582325 , 4450614.69734378, 3750662.45883345,\n",
       "       3998566.89409661, 4886299.69160692, 3954575.37870895,\n",
       "       4353174.36405925, 4475294.88192756, 5236315.45761264,\n",
       "       3950264.04215016, 4357287.43284363, 3959994.69656091,\n",
       "       4267164.49737502, 4886299.69160692, 4455266.55088035,\n",
       "       3432607.95700004, 4273004.87640395, 4966945.43955495,\n",
       "       3093417.43025437, 4221555.06678409, 4213595.05690073,\n",
       "       3973973.68430752, 4886710.78720688, 3965883.6625736 ,\n",
       "       4940082.55492074, 3558600.57949673, 3709486.19669431,\n",
       "       4242641.50705366, 4188971.99535785, 4224102.44044221,\n",
       "       4267625.97708082, 4400556.89736407])"
      ]
     },
     "execution_count": 1246,
     "metadata": {},
     "output_type": "execute_result"
    }
   ],
   "source": [
    "predictions"
   ]
  },
  {
   "cell_type": "code",
   "execution_count": 1247,
   "metadata": {},
   "outputs": [
    {
     "name": "stderr",
     "output_type": "stream",
     "text": [
      "C:\\ProgramData\\Anaconda3\\lib\\site-packages\\seaborn\\distributions.py:2551: FutureWarning: `distplot` is a deprecated function and will be removed in a future version. Please adapt your code to use either `displot` (a figure-level function with similar flexibility) or `histplot` (an axes-level function for histograms).\n",
      "  warnings.warn(msg, FutureWarning)\n"
     ]
    },
    {
     "data": {
      "text/plain": [
       "<AxesSubplot:xlabel='Cars_price', ylabel='Density'>"
      ]
     },
     "execution_count": 1247,
     "metadata": {},
     "output_type": "execute_result"
    },
    {
     "data": {
      "image/png": "[encoded data removed]",
      "text/plain": [
       "<Figure size 432x288 with 1 Axes>"
      ]
     },
     "metadata": {
      "needs_background": "light"
     },
     "output_type": "display_data"
    }
   ],
   "source": [
    "import seaborn as sns\n",
    "sns.distplot(y_test-predictions)"
   ]
  },
  {
   "cell_type": "code",
   "execution_count": 1248,
   "metadata": {},
   "outputs": [
    {
     "data": {
      "text/plain": [
       "<matplotlib.collections.PathCollection at 0x12c1004bdf0>"
      ]
     },
     "execution_count": 1248,
     "metadata": {},
     "output_type": "execute_result"
    },
    {
     "data": {
      "image/png": "[encoded data removed]",
      "text/plain": [
       "<Figure size 432x288 with 1 Axes>"
      ]
     },
     "metadata": {
      "needs_background": "light"
     },
     "output_type": "display_data"
    }
   ],
   "source": [
    "plt.scatter(y_test,predictions)"
   ]
  },
  {
   "cell_type": "code",
   "execution_count": 1249,
   "metadata": {},
   "outputs": [],
   "source": [
    "from sklearn import metrics"
   ]
  },
  {
   "cell_type": "code",
   "execution_count": 1250,
   "metadata": {},
   "outputs": [
    {
     "name": "stdout",
     "output_type": "stream",
     "text": [
      "MAE: 215339.4845174212\n",
      "MSE: 87933225639.90201\n",
      "RMSE: 296535.36996436364\n"
     ]
    }
   ],
   "source": [
    "print('MAE:', metrics.mean_absolute_error(y_test, predictions))\n",
    "print('MSE:', metrics.mean_squared_error(y_test, predictions))\n",
    "print('RMSE:', np.sqrt(metrics.mean_squared_error(y_test, predictions)))"
   ]
  },
  {
   "cell_type": "code",
   "execution_count": 1251,
   "metadata": {},
   "outputs": [],
   "source": [
    "import pickle\n",
    "\n",
    "file = open('random_forest_regression_model.pkl', 'wb')\n",
    "\n",
    "\n",
    "pickle.dump(rf_random, file)"
   ]
  }
 ],
 "metadata": {
  "kernelspec": {
   "display_name": "Python 3",
   "language": "python",
   "name": "python3"
  },
  "language_info": {
   "codemirror_mode": {
    "name": "ipython",
    "version": 3
   },
   "file_extension": ".py",
   "mimetype": "text/x-python",
   "name": "python",
   "nbconvert_exporter": "python",
   "pygments_lexer": "ipython3",
   "version": "3.8.5"
  },
  "widgets": {
   "application/vnd.jupyter.widget-state+json": {
    "state": {},
    "version_major": 2,
    "version_minor": 0
   }
  }
 },
 "nbformat": 4,
 "nbformat_minor": 4
}
